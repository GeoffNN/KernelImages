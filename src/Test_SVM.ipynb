{
 "cells": [
  {
   "cell_type": "code",
   "execution_count": 78,
   "metadata": {
    "collapsed": false,
    "run_control": {
     "frozen": false,
     "read_only": false
    }
   },
   "outputs": [],
   "source": [
    "import numpy as np\n",
    "\n",
    "import matplotlib.pyplot as plt"
   ]
  },
  {
   "cell_type": "code",
   "execution_count": 121,
   "metadata": {
    "collapsed": true
   },
   "outputs": [],
   "source": [
    "import numpy as np\n",
    "import cvxopt\n",
    "from cvxopt import matrix, solvers\n",
    "import pandas as pd\n",
    "\n",
    "rho = 1.\n",
    "a = 0.25\n",
    "b = 1\n",
    "\n",
    "def gaussian(x, y, gamma = 0.5):\n",
    "    return np.exp(-gamma * np.linalg.norm((x - y)))\n",
    "\n",
    "def kernel(x, y):\n",
    "    res = np.dot(x.T,y)\n",
    "    return res\n",
    "\n",
    "def kernel_matrix(X, kernel, **kwargs):\n",
    "    n = X.shape[0]\n",
    "    K = np.zeros((n, n))\n",
    "    for i in range(n):\n",
    "        if (i % 500 == 0):\n",
    "            print(i)\n",
    "        for j in range(n):\n",
    "            K[i, j] = kernel(X[i], X[j], **kwargs)\n",
    "    return K\n",
    "\n",
    "\n",
    "\n",
    "def transform_dual(K,y,  C=300):\n",
    "    # Here, we keep lambda as the variable. We need to make A bigger to account for the 2 inequalities on lambda\n",
    "    n = K.shape[0]\n",
    "    Q = matrix(np.diag(y)) * K * matrix(np.diag(y))\n",
    "    p = - np.ones(n)\n",
    "    G = np.zeros((2 * n, n))\n",
    "    h = np.zeros(2 * n)\n",
    "    G[:n, :n] = np.eye(n)\n",
    "    G[n:2 * n, :n] = -np.eye(n)\n",
    "    h[:n] = C * np.ones(n)\n",
    "    return matrix(Q), matrix(p), matrix(G), matrix(h)\n",
    "\n",
    "\n",
    "# def transform_dual2(X,y,C=.5):\n",
    "#     # Here, we keep lambda as the variable. We need to make A bigger to account for the 2 inequalities on lambda\n",
    "#     n = X.shape[0]\n",
    "#     X_m = matrix(X.values)\n",
    "#     P = X_m * X_m.T\n",
    "#     q = - y * np.ones(n)\n",
    "#     G = np.zeros((2 * n, n))\n",
    "#     h = np.zeros(2 * n)\n",
    "#     G[:n, :] = matrix(np.diag(y))\n",
    "#     G[n:2 * n, :] = matrix(-np.diag(y))\n",
    "#     h[:n] = C * np.ones(n)\n",
    "#     return matrix(P), matrix(q), matrix(G), matrix(h)\n",
    "\n",
    "# Computation of SVM\n",
    "# Output : alpha.T * Diag(y)\n",
    "\n",
    "def svm(K, y: object, C: object = 300) -> object:\n",
    "    Q, p, G, h = transform_dual(K, y, C)\n",
    "    print(type(Q))\n",
    "    w_sol = solvers.qp(Q, p, G, h)\n",
    "    print(w_sol)\n",
    "    return np.dot(w_sol['x'].T, np.diag(y))\n",
    "\n",
    "\n",
    "def pred(w, x, X):\n",
    "    \n",
    "    ker = np.array([kernel(x, X[i,:]) for i in range(X.shape[0])])\n",
    "    return np.sign(np.dot(w,ker))\n",
    "\n",
    "def predict(w,X_test,X_train):\n",
    "    y_pred = np.ones(X_test.shape[0])\n",
    "    for i in range(X_test.shape[0]):\n",
    "        y_pred[i] = pred(w,X_test[i,:],X_train)\n",
    "        \n",
    "    return y_pred\n",
    "\n",
    "def onevsallSVM(X, y, C=300):\n",
    "    models = {}\n",
    "    for cls in np.unique(y):\n",
    "        X_train = X.copy()\n",
    "        y_train = pd.Series([-1 if yval == cls else 1 for yval in y])\n",
    "        models[cls] = svm(X_train, y_train, C=C)\n",
    "    return models\n",
    "\n",
    "\n",
    "def predict_onevsall(models, x, X, y):\n",
    "    cls, margin = 0, 0\n",
    "    ker = np.array([kernel(x, X[i]) for i in range(X.shape[0])])\n",
    "    for i, m in models.items():\n",
    "        a = np.dot(m, ker)\n",
    "        if np.abs(a) > margin and a > 0:\n",
    "            cls, margin = i, np.abs(a)\n",
    "    return cls\n",
    "\n",
    "\n",
    "def onevsoneSVM(X, y, C=300):\n",
    "    for class1 in np.unique(y):\n",
    "        for class2 in np.unique(y):\n",
    "            if class1 != class2:\n",
    "                X_train = pd.concat((X.loc[y == class1], X.loc[y == class2]))\n",
    "                y_train = pd.concat((y.loc[y == class1]), y.loc(y == class2))\n",
    "\n",
    "\n",
    "def error_rate(ypred, ytrue):\n",
    "    return np.mean(1 * (ypred != ytrue))"
   ]
  },
  {
   "cell_type": "code",
   "execution_count": 89,
   "metadata": {
    "collapsed": false
   },
   "outputs": [],
   "source": [
    "G1 = np.random.normal(-1,0.5, (2,50))\n",
    "G2 = np.random.normal(1,0.5, (2,50))"
   ]
  },
  {
   "cell_type": "code",
   "execution_count": 90,
   "metadata": {
    "collapsed": false
   },
   "outputs": [
    {
     "data": {
      "image/png": "[encoded data removed]",
      "text/plain": [
       "<matplotlib.figure.Figure at 0x7fdaab2b2da0>"
      ]
     },
     "metadata": {},
     "output_type": "display_data"
    }
   ],
   "source": [
    "plt.scatter(G1[0],G1[1])\n",
    "plt.scatter(G2[0],G2[1])\n",
    "\n",
    "plt.show()"
   ]
  },
  {
   "cell_type": "code",
   "execution_count": 91,
   "metadata": {
    "collapsed": true
   },
   "outputs": [],
   "source": [
    "G = np.zeros((2,100))\n",
    "G[:,:50] = G1\n",
    "G[:,50:] = G2\n",
    "\n",
    "label = np.ones(100)\n",
    "label[:50] = -np.ones(50)"
   ]
  },
  {
   "cell_type": "code",
   "execution_count": 92,
   "metadata": {
    "collapsed": false
   },
   "outputs": [
    {
     "data": {
      "image/png": "[encoded data removed]",
      "text/plain": [
       "<matplotlib.figure.Figure at 0x7fdaab2b6518>"
      ]
     },
     "metadata": {},
     "output_type": "display_data"
    }
   ],
   "source": [
    "G.shape\n",
    "plt.scatter(G[0],G[1])\n",
    "plt.show()\n",
    "\n",
    "G = G.T"
   ]
  },
  {
   "cell_type": "code",
   "execution_count": 93,
   "metadata": {
    "collapsed": false
   },
   "outputs": [
    {
     "data": {
      "text/plain": [
       "(100, 100)"
      ]
     },
     "execution_count": 93,
     "metadata": {},
     "output_type": "execute_result"
    }
   ],
   "source": [
    "K = np.dot(G,G.T)\n",
    "K.shape"
   ]
  },
  {
   "cell_type": "code",
   "execution_count": 126,
   "metadata": {
    "collapsed": false
   },
   "outputs": [
    {
     "name": "stdout",
     "output_type": "stream",
     "text": [
      "<class 'cvxopt.base.matrix'>\n",
      "     pcost       dcost       gap    pres   dres\n",
      " 0: -3.7500e+01 -8.7500e+01  3e+02  3e+00  2e-16\n",
      " 1: -3.0634e+01 -6.6115e+01  4e+01  2e-16  4e-16\n",
      " 2: -3.5104e+01 -3.7884e+01  3e+00  2e-16  1e-16\n",
      " 3: -3.7468e+01 -3.7504e+01  4e-02  1e-16  1e-16\n",
      " 4: -3.7500e+01 -3.7500e+01  4e-04  1e-16  2e-16\n",
      " 5: -3.7500e+01 -3.7500e+01  4e-06  1e-16  2e-16\n",
      "Optimal solution found.\n",
      "{'y': <0x1 matrix, tc='d'>, 'dual slack': 8.523759513539297e-09, 'dual objective': -37.50000042618818, 'primal objective': -37.49999680167382, 'z': <200x1 matrix, tc='d'>, 'primal slack': 6.396651955253327e-08, 'dual infeasibility': 2.220446049250313e-16, 's': <200x1 matrix, tc='d'>, 'gap': 3.6245143624751922e-06, 'status': 'optimal', 'relative gap': 9.665372457614214e-08, 'iterations': 5, 'primal infeasibility': 1.1102230246251565e-16, 'x': <100x1 matrix, tc='d'>}\n"
     ]
    }
   ],
   "source": [
    "w = svm(K,label,C = 0.5)"
   ]
  },
  {
   "cell_type": "code",
   "execution_count": 127,
   "metadata": {
    "collapsed": false
   },
   "outputs": [],
   "source": [
    "G1t = np.random.normal(-1,0.5, (2,1000))\n",
    "G2t = np.random.normal(1,0.5, (2,1000))"
   ]
  },
  {
   "cell_type": "code",
   "execution_count": 128,
   "metadata": {
    "collapsed": false
   },
   "outputs": [
    {
     "data": {
      "text/plain": [
       "998.0"
      ]
     },
     "execution_count": 128,
     "metadata": {},
     "output_type": "execute_result"
    }
   ],
   "source": [
    "np.sum(predict(w,G2t.T,G))"
   ]
  },
  {
   "cell_type": "code",
   "execution_count": 72,
   "metadata": {
    "collapsed": false
   },
   "outputs": [
    {
     "data": {
      "text/plain": [
       "-0.36344130867905428"
      ]
     },
     "execution_count": 72,
     "metadata": {},
     "output_type": "execute_result"
    }
   ],
   "source": [
    "kernel(np.array([0.5,0.5]),G.T[0,:])"
   ]
  },
  {
   "cell_type": "code",
   "execution_count": 77,
   "metadata": {
    "collapsed": false
   },
   "outputs": [
    {
     "data": {
      "text/plain": [
       "(2, 100)"
      ]
     },
     "execution_count": 77,
     "metadata": {},
     "output_type": "execute_result"
    }
   ],
   "source": [
    "G.shape"
   ]
  },
  {
   "cell_type": "code",
   "execution_count": 124,
   "metadata": {
    "collapsed": false
   },
   "outputs": [
    {
     "name": "stdout",
     "output_type": "stream",
     "text": [
      "0\n"
     ]
    }
   ],
   "source": [
    "K = kernel_matrix(G,gaussian, gamma = 0.9)"
   ]
  },
  {
   "cell_type": "code",
   "execution_count": 125,
   "metadata": {
    "collapsed": false
   },
   "outputs": [
    {
     "data": {
      "text/plain": [
       "array([[ 1.        ,  0.54088418,  0.9076444 , ...,  0.12371299,\n",
       "         0.04506086,  0.06716695],\n",
       "       [ 0.54088418,  1.        ,  0.55466006, ...,  0.09626969,\n",
       "         0.03146968,  0.05687589],\n",
       "       [ 0.9076444 ,  0.55466006,  1.        , ...,  0.13368733,\n",
       "         0.0478682 ,  0.07307923],\n",
       "       ..., \n",
       "       [ 0.12371299,  0.09626969,  0.13368733, ...,  1.        ,\n",
       "         0.30095985,  0.50778713],\n",
       "       [ 0.04506086,  0.03146968,  0.0478682 , ...,  0.30095985,\n",
       "         1.        ,  0.31276261],\n",
       "       [ 0.06716695,  0.05687589,  0.07307923, ...,  0.50778713,\n",
       "         0.31276261,  1.        ]])"
      ]
     },
     "execution_count": 125,
     "metadata": {},
     "output_type": "execute_result"
    }
   ],
   "source": [
    "K"
   ]
  },
  {
   "cell_type": "code",
   "execution_count": null,
   "metadata": {
    "collapsed": true
   },
   "outputs": [],
   "source": [
    ""
   ]
  }
 ],
 "metadata": {
  "kernelspec": {
   "display_name": "Python [conda root]",
   "language": "python",
   "name": "conda-root-py"
  },
  "language_info": {
   "codemirror_mode": {
    "name": "ipython",
    "version": 3.0
   },
   "file_extension": ".py",
   "mimetype": "text/x-python",
   "name": "python",
   "nbconvert_exporter": "python",
   "pygments_lexer": "ipython3",
   "version": "3.5.3"
  },
  "latex_envs": {
   "LaTeX_envs_menu_present": true,
   "bibliofile": "biblio.bib",
   "cite_by": "apalike",
   "current_citInitial": 1.0,
   "eqLabelWithNumbers": true,
   "eqNumInitial": 1.0,
   "labels_anchors": false,
   "latex_user_defs": false,
   "report_style_numbering": false,
   "user_envs_cfg": false
  }
 },
 "nbformat": 4,
 "nbformat_minor": 0
}