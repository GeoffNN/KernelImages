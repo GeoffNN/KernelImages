{
 "cells": [
  {
   "cell_type": "code",
   "execution_count": 1,
   "metadata": {
    "collapsed": true
   },
   "outputs": [],
   "source": [
    "import pandas as pd\n",
    "\n",
    "def load_train_feats():\n",
    "    X = pd.read_csv('data/Xtr.csv', sep=\",\", header=None)\n",
    "    return X.drop(X.columns[-1], axis=1)\n",
    "\n",
    "def load_train_target():\n",
    "    return pd.read_csv(\"data/Ytr.csv\", sep=\",\", index_col=0)['Prediction']\n",
    "\n",
    "def load_test_feats():\n",
    "    X = pd.read_csv(\"data/Xte.csv\", sep=\",\", header=None)\n",
    "    return X.drop(X.columns[-1], axis=1)"
   ]
  },
  {
   "cell_type": "code",
   "execution_count": 2,
   "metadata": {},
   "outputs": [],
   "source": [
    "X_train = load_train_feats()\n",
    "X_test = load_test_feats()\n",
    "Y_train = load_train_target()\n",
    "X_train.index = Y_train.index"
   ]
  },
  {
   "cell_type": "code",
   "execution_count": 3,
   "metadata": {},
   "outputs": [],
   "source": [
    "# Two class test:\n",
    "X_train = X_train[Y_train < 2]\n",
    "Y_train = Y_train[Y_train < 2]"
   ]
  },
  {
   "cell_type": "code",
   "execution_count": 4,
   "metadata": {},
   "outputs": [],
   "source": [
    ""
   ]
  },
  {
   "cell_type": "code",
   "execution_count": null,
   "metadata": {},
   "outputs": [
    {
     "name": "stdout",
     "output_type": "stream",
     "text": [
      "     pcost       dcost       gap    pres   dres\n 0: -1.4879e+02 -5.5269e+02  4e+03  4e+00  4e-16\n 1:  4.8954e+01 -3.3114e+02  5e+02  2e-01  6e-16\n 2:  2.1685e+01 -1.2423e+01  4e+01  8e-03  6e-16\n 3:  1.9657e+00 -9.7652e-01  3e+00  6e-04  8e-16\n 4:  3.0977e-02 -1.4246e-02  5e-02  9e-06  7e-16"
     ]
    },
    {
     "name": "stdout",
     "output_type": "stream",
     "text": [
      "\n 5:  3.0988e-04 -1.4242e-04  5e-04  9e-08  6e-16\n 6:  3.0987e-06 -1.4242e-06  5e-06  9e-10  7e-16\n 7:  3.0987e-08 -1.4242e-08  5e-08  9e-12  7e-16\nOptimal solution found.\n{'y': <0x1 matrix, tc='d'>, 's': <2000x1 matrix, tc='d'>, 'primal slack': 7.985889972682395e-12, 'primal objective': 3.098745726833329e-08, 'relative gap': None, 'dual infeasibility': 6.513707910955661e-16, 'x': <1000x1 matrix, tc='d'>, 'gap': 4.829116137926273e-08, 'primal infeasibility': 8.658945472096818e-12, 'dual objective': -1.4242275477554292e-08, 'status': 'optimal', 'dual slack': 1.0692370666763391e-11, 'z': <2000x1 matrix, tc='d'>, 'iterations': 7}\n"
     ]
    }
   ],
   "source": [
    "from src.svm import SVM\n",
    "\n",
    "w = SVM(X_train, Y_train, C=.5)"
   ]
  },
  {
   "cell_type": "code",
   "execution_count": 13,
   "metadata": {},
   "outputs": [
    {
     "data": {
      "text/plain": [
       "3072"
      ]
     },
     "execution_count": 13,
     "metadata": {},
     "output_type": "execute_result"
    }
   ],
   "source": [
    "import numpy as np\n",
    "from src.svm import predict\n",
    "\n",
    "len(X_train.columns)"
   ]
  },
  {
   "cell_type": "code",
   "execution_count": 18,
   "metadata": {},
   "outputs": [
    {
     "data": {
      "text/plain": [
       "Int64Index([   0,    1,    2,    3,    4,    5,    6,    7,    8,    9,\n            ...\n            3062, 3063, 3064, 3065, 3066, 3067, 3068, 3069, 3070, 3071],\n           dtype='int64', length=3072)"
      ]
     },
     "execution_count": 18,
     "metadata": {},
     "output_type": "execute_result"
    }
   ],
   "source": [
    "X_train.columns"
   ]
  },
  {
   "cell_type": "code",
   "execution_count": 19,
   "metadata": {},
   "outputs": [],
   "source": [
    ""
   ]
  },
  {
   "cell_type": "code",
   "execution_count": null,
   "metadata": {},
   "outputs": [],
   "source": [
    ""
   ]
  }
 ],
 "metadata": {
  "kernelspec": {
   "display_name": "Python 2",
   "language": "python",
   "name": "python2"
  },
  "language_info": {
   "codemirror_mode": {
    "name": "ipython",
    "version": 2.0
   },
   "file_extension": ".py",
   "mimetype": "text/x-python",
   "name": "python",
   "nbconvert_exporter": "python",
   "pygments_lexer": "ipython2",
   "version": "2.7.6"
  }
 },
 "nbformat": 4,
 "nbformat_minor": 0
}