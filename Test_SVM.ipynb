{
 "cells": [
  {
   "cell_type": "code",
   "execution_count": 1,
   "metadata": {
    "collapsed": false,
    "run_control": {
     "frozen": false,
     "read_only": false
    }
   },
   "outputs": [],
   "source": [
    "import numpy as np\n",
    "import pandas as pd\n",
    "import matplotlib.pyplot as plt\n",
    "%matplotlib inline\n",
    "%load_ext autoreload\n",
    "%autoreload 2"
   ]
  },
  {
   "cell_type": "code",
   "execution_count": 2,
   "metadata": {
    "collapsed": true
   },
   "outputs": [],
   "source": [
    "from src.kernel_svm import KernelSVM\n",
    "\n",
    "\n",
    "def linear_kernel(x, y):\n",
    "    return x.dot(y.transpose())\n",
    "\n",
    "model = KernelSVM(kernel_fun=linear_kernel, C=300)"
   ]
  },
  {
   "cell_type": "code",
   "execution_count": 3,
   "metadata": {
    "collapsed": false
   },
   "outputs": [],
   "source": [
    "G1 = np.random.normal(-1,0.5, (2,50))\n",
    "G2 = np.random.normal(1,0.5, (2,50))\n",
    "data = pd.DataFrame(np.concatenate((G1, G2), axis=1)).T\n",
    "data['TARGET'] = pd.Series([1 if x < 50 else -1 for x in range(100)])\n",
    "target = 'TARGET'"
   ]
  },
  {
   "cell_type": "code",
   "execution_count": 4,
   "metadata": {
    "collapsed": false
   },
   "outputs": [
    {
     "name": "stdout",
     "output_type": "stream",
     "text": [
      "0\n",
      "     pcost       dcost       gap    pres   dres\n",
      " 0:  5.0775e+05 -1.8663e+06  2e+06  4e-17  4e-14\n",
      " 1:  1.2054e+05 -1.9318e+05  3e+05  2e-16  4e-14\n",
      " 2:  1.7774e+04 -2.3831e+04  4e+04  2e-16  2e-14\n",
      " 3:  2.4104e+03 -4.4772e+03  7e+03  2e-16  7e-15\n",
      " 4:  1.4960e+02 -7.2892e+02  9e+02  2e-16  2e-15\n",
      " 5: -1.3929e+02 -2.6047e+02  1e+02  2e-16  8e-16\n",
      " 6: -1.6765e+02 -1.8119e+02  1e+01  2e-16  2e-16\n",
      " 7: -1.6889e+02 -1.6950e+02  6e-01  2e-16  7e-17\n",
      " 8: -1.6890e+02 -1.6890e+02  7e-03  2e-16  6e-17\n",
      " 9: -1.6890e+02 -1.6890e+02  7e-05  2e-16  6e-17\n",
      "Optimal solution found.\n"
     ]
    }
   ],
   "source": [
    "model.fit(data.drop(target, axis=1), data[target])"
   ]
  },
  {
   "cell_type": "code",
   "execution_count": 5,
   "metadata": {
    "collapsed": false
   },
   "outputs": [],
   "source": [
    "test = pd.DataFrame(np.random.normal(0,0.5,(2,50)))"
   ]
  },
  {
   "cell_type": "code",
   "execution_count": 6,
   "metadata": {
    "collapsed": false
   },
   "outputs": [],
   "source": [
    "a = pd.Series([0,1])"
   ]
  },
  {
   "cell_type": "code",
   "execution_count": 7,
   "metadata": {
    "collapsed": false
   },
   "outputs": [
    {
     "name": "stdout",
     "output_type": "stream",
     "text": [
      "(0, 0   -0.437088\n",
      "1   -0.537084\n",
      "Name: 0, dtype: float64)\n",
      "(1, 0   -0.089563\n",
      "1   -1.869512\n",
      "Name: 1, dtype: float64)\n",
      "(2, 0   -1.015775\n",
      "1   -0.469833\n",
      "Name: 2, dtype: float64)\n",
      "(3, 0   -1.195064\n",
      "1   -0.451221\n",
      "Name: 3, dtype: float64)\n",
      "(4, 0   -0.774713\n",
      "1   -0.933656\n",
      "Name: 4, dtype: float64)\n",
      "(5, 0   -0.354941\n",
      "1   -1.114018\n",
      "Name: 5, dtype: float64)\n",
      "(6, 0   -0.040456\n",
      "1   -0.043930\n",
      "Name: 6, dtype: float64)\n",
      "(7, 0   -1.102910\n",
      "1   -0.444507\n",
      "Name: 7, dtype: float64)\n",
      "(8, 0   -0.159570\n",
      "1   -1.840325\n",
      "Name: 8, dtype: float64)\n",
      "(9, 0   -1.208955\n",
      "1   -1.064486\n",
      "Name: 9, dtype: float64)\n",
      "(10, 0   -1.351986\n",
      "1   -0.571496\n",
      "Name: 10, dtype: float64)\n",
      "(11, 0   -1.818886\n",
      "1   -1.814780\n",
      "Name: 11, dtype: float64)\n",
      "(12, 0   -0.574196\n",
      "1   -0.171662\n",
      "Name: 12, dtype: float64)\n",
      "(13, 0   -0.950024\n",
      "1   -1.059934\n",
      "Name: 13, dtype: float64)\n",
      "(14, 0   -1.058506\n",
      "1   -1.753697\n",
      "Name: 14, dtype: float64)\n",
      "(15, 0   -0.911981\n",
      "1   -1.118838\n",
      "Name: 15, dtype: float64)\n",
      "(16, 0   -0.044029\n",
      "1   -1.272944\n",
      "Name: 16, dtype: float64)\n",
      "(17, 0   -0.765503\n",
      "1   -1.419253\n",
      "Name: 17, dtype: float64)\n",
      "(18, 0   -0.898768\n",
      "1   -1.164222\n",
      "Name: 18, dtype: float64)\n",
      "(19, 0   -0.781353\n",
      "1   -1.102724\n",
      "Name: 19, dtype: float64)\n",
      "(20, 0   -0.943086\n",
      "1   -2.096916\n",
      "Name: 20, dtype: float64)\n",
      "(21, 0   -1.253629\n",
      "1   -1.283113\n",
      "Name: 21, dtype: float64)\n",
      "(22, 0   -0.585335\n",
      "1   -0.374260\n",
      "Name: 22, dtype: float64)\n",
      "(23, 0   -1.808439\n",
      "1   -0.724070\n",
      "Name: 23, dtype: float64)\n",
      "(24, 0   -1.182723\n",
      "1   -0.674733\n",
      "Name: 24, dtype: float64)\n",
      "(25, 0   -1.126439\n",
      "1   -1.100316\n",
      "Name: 25, dtype: float64)\n",
      "(26, 0   -1.314336\n",
      "1   -1.374374\n",
      "Name: 26, dtype: float64)\n",
      "(27, 0   -0.675568\n",
      "1   -1.354385\n",
      "Name: 27, dtype: float64)\n",
      "(28, 0    0.249661\n",
      "1   -1.341554\n",
      "Name: 28, dtype: float64)\n",
      "(29, 0   -0.839136\n",
      "1   -0.844048\n",
      "Name: 29, dtype: float64)\n",
      "(30, 0   -1.158313\n",
      "1   -0.843924\n",
      "Name: 30, dtype: float64)\n",
      "(31, 0   -1.065262\n",
      "1   -0.877632\n",
      "Name: 31, dtype: float64)\n",
      "(32, 0   -0.769631\n",
      "1   -1.204168\n",
      "Name: 32, dtype: float64)\n",
      "(33, 0   -0.371138\n",
      "1   -1.358900\n",
      "Name: 33, dtype: float64)\n",
      "(34, 0   -2.229690\n",
      "1   -0.583904\n",
      "Name: 34, dtype: float64)\n",
      "(35, 0   -0.854684\n",
      "1   -0.933733\n",
      "Name: 35, dtype: float64)\n",
      "(36, 0   -0.657693\n",
      "1   -0.992467\n",
      "Name: 36, dtype: float64)\n",
      "(37, 0   -0.671812\n",
      "1   -2.025895\n",
      "Name: 37, dtype: float64)\n",
      "(38, 0   -1.634693\n",
      "1   -0.870780\n",
      "Name: 38, dtype: float64)\n",
      "(39, 0   -1.463311\n",
      "1   -0.835407\n",
      "Name: 39, dtype: float64)\n",
      "(40, 0   -1.720875\n",
      "1   -2.271381\n",
      "Name: 40, dtype: float64)\n",
      "(41, 0   -1.095376\n",
      "1   -0.670951\n",
      "Name: 41, dtype: float64)\n",
      "(42, 0   -1.273460\n",
      "1   -0.294777\n",
      "Name: 42, dtype: float64)\n",
      "(43, 0   -1.116164\n",
      "1   -1.115145\n",
      "Name: 43, dtype: float64)\n",
      "(44, 0   -0.854310\n",
      "1   -1.834447\n",
      "Name: 44, dtype: float64)\n",
      "(45, 0   -0.346438\n",
      "1   -0.985807\n",
      "Name: 45, dtype: float64)\n",
      "(46, 0   -1.196466\n",
      "1   -1.839563\n",
      "Name: 46, dtype: float64)\n",
      "(47, 0   -1.859951\n",
      "1   -1.597403\n",
      "Name: 47, dtype: float64)\n",
      "(48, 0   -1.073528\n",
      "1   -1.094392\n",
      "Name: 48, dtype: float64)\n",
      "(49, 0   -0.667472\n",
      "1   -1.132101\n",
      "Name: 49, dtype: float64)\n"
     ]
    }
   ],
   "source": [
    "for support_vec in model.support_vectors_.iterrows(): \n",
    "    print(support_vec)"
   ]
  },
  {
   "cell_type": "code",
   "execution_count": 18,
   "metadata": {
    "collapsed": false
   },
   "outputs": [
    {
     "data": {
      "text/plain": [
       "0    -1.0\n",
       "1    -1.0\n",
       "2    -1.0\n",
       "3    -1.0\n",
       "4    -1.0\n",
       "5    -1.0\n",
       "6    -1.0\n",
       "7    -1.0\n",
       "8    -1.0\n",
       "9    -1.0\n",
       "10   -1.0\n",
       "11   -1.0\n",
       "12   -1.0\n",
       "13   -1.0\n",
       "14   -1.0\n",
       "15   -1.0\n",
       "16   -1.0\n",
       "17   -1.0\n",
       "18   -1.0\n",
       "19   -1.0\n",
       "20   -1.0\n",
       "21   -1.0\n",
       "22   -1.0\n",
       "23   -1.0\n",
       "24   -1.0\n",
       "25   -1.0\n",
       "26   -1.0\n",
       "27   -1.0\n",
       "28   -1.0\n",
       "29   -1.0\n",
       "30   -1.0\n",
       "31   -1.0\n",
       "32   -1.0\n",
       "33   -1.0\n",
       "34   -1.0\n",
       "35   -1.0\n",
       "36   -1.0\n",
       "37   -1.0\n",
       "38   -1.0\n",
       "39   -1.0\n",
       "40   -1.0\n",
       "41   -1.0\n",
       "42   -1.0\n",
       "43   -1.0\n",
       "44   -1.0\n",
       "45   -1.0\n",
       "46   -1.0\n",
       "47   -1.0\n",
       "48   -1.0\n",
       "49   -1.0\n",
       "dtype: float64"
      ]
     },
     "execution_count": 18,
     "metadata": {},
     "output_type": "execute_result"
    }
   ],
   "source": [
    "test = G1\n",
    "model.predict(pd.DataFrame(G2))"
   ]
  },
  {
   "cell_type": "code",
   "execution_count": 9,
   "metadata": {
    "collapsed": false
   },
   "outputs": [
    {
     "ename": "NameError",
     "evalue": "name 'G' is not defined",
     "traceback": [
      "\u001b[0;31m---------------------------------------------------------------------------\u001b[0m",
      "\u001b[0;31mNameError\u001b[0m                                 Traceback (most recent call last)",
      "\u001b[0;32m<ipython-input-9-6b859821e5a4>\u001b[0m in \u001b[0;36m<module>\u001b[0;34m()\u001b[0m\n\u001b[0;32m----> 1\u001b[0;31m \u001b[0mK\u001b[0m \u001b[0;34m=\u001b[0m \u001b[0mnp\u001b[0m\u001b[0;34m.\u001b[0m\u001b[0mdot\u001b[0m\u001b[0;34m(\u001b[0m\u001b[0mG\u001b[0m\u001b[0;34m,\u001b[0m\u001b[0mG\u001b[0m\u001b[0;34m.\u001b[0m\u001b[0mT\u001b[0m\u001b[0;34m)\u001b[0m\u001b[0;34m\u001b[0m\u001b[0m\n\u001b[0m\u001b[1;32m      2\u001b[0m \u001b[0mK\u001b[0m\u001b[0;34m.\u001b[0m\u001b[0mshape\u001b[0m\u001b[0;34m\u001b[0m\u001b[0m\n",
      "\u001b[0;31mNameError\u001b[0m: name 'G' is not defined"
     ],
     "output_type": "error"
    }
   ],
   "source": [
    "K = np.dot(G,G.T)\n",
    "K.shape"
   ]
  },
  {
   "cell_type": "code",
   "execution_count": null,
   "metadata": {
    "collapsed": false
   },
   "outputs": [],
   "source": [
    "w = svm(K, label, C=0.5)"
   ]
  },
  {
   "cell_type": "code",
   "execution_count": null,
   "metadata": {
    "collapsed": false
   },
   "outputs": [],
   "source": [
    "G1t = np.random.normal(-1, 0.5, (2, 1000))\n",
    "G2t = np.random.normal(1, 0.5, (2, 1000))"
   ]
  },
  {
   "cell_type": "code",
   "execution_count": null,
   "metadata": {
    "collapsed": false
   },
   "outputs": [],
   "source": [
    "predict(w, G2t.T, G)"
   ]
  },
  {
   "cell_type": "code",
   "execution_count": null,
   "metadata": {
    "collapsed": false
   },
   "outputs": [],
   "source": [
    "kernel(np.array([0.5, 0.5]), G.T[0, :])"
   ]
  },
  {
   "cell_type": "code",
   "execution_count": null,
   "metadata": {
    "collapsed": false
   },
   "outputs": [],
   "source": [
    "G.shape"
   ]
  },
  {
   "cell_type": "code",
   "execution_count": null,
   "metadata": {
    "collapsed": false
   },
   "outputs": [],
   "source": [
    "K = kernel_matrix(G,gaussian, gamma = 0.9)"
   ]
  },
  {
   "cell_type": "code",
   "execution_count": null,
   "metadata": {
    "collapsed": false
   },
   "outputs": [],
   "source": [
    "K"
   ]
  },
  {
   "cell_type": "code",
   "execution_count": null,
   "metadata": {
    "collapsed": true
   },
   "outputs": [],
   "source": [
    ""
   ]
  }
 ],
 "metadata": {
  "kernelspec": {
   "display_name": "Python 3",
   "language": "python",
   "name": "python3"
  },
  "language_info": {
   "codemirror_mode": {
    "name": "ipython",
    "version": 3.0
   },
   "file_extension": ".py",
   "mimetype": "text/x-python",
   "name": "python",
   "nbconvert_exporter": "python",
   "pygments_lexer": "ipython3",
   "version": "3.5.2"
  },
  "latex_envs": {
   "LaTeX_envs_menu_present": true,
   "bibliofile": "biblio.bib",
   "cite_by": "apalike",
   "current_citInitial": 1.0,
   "eqLabelWithNumbers": true,
   "eqNumInitial": 1.0,
   "labels_anchors": false,
   "latex_user_defs": false,
   "report_style_numbering": false,
   "user_envs_cfg": false
  }
 },
 "nbformat": 4,
 "nbformat_minor": 0
}